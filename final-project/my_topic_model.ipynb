{
 "cells": [
  {
   "cell_type": "code",
   "execution_count": 1,
   "metadata": {},
   "outputs": [],
   "source": [
    "import jax\n",
    "import jax.numpy as jnp\n",
    "from jax import grad, jit, vmap, nn, value_and_grad\n",
    "import pylab as pl\n",
    "from IPython.display import clear_output\n",
    "import optax"
   ]
  },
  {
   "cell_type": "code",
   "execution_count": 7,
   "metadata": {},
   "outputs": [
    {
     "name": "stderr",
     "output_type": "stream",
     "text": [
      "WARNING:absl:No GPU/TPU found, falling back to CPU. (Set TF_CPP_MIN_LOG_LEVEL=0 and rerun for more info.)\n"
     ]
    }
   ],
   "source": [
    "class RNG:\n",
    "    def __init__(self, seed):\n",
    "        self.key = jax.random.PRNGKey(seed)\n",
    "\n",
    "    def sample(self, shape):\n",
    "        key, _ = jax.random.split(self.key)\n",
    "        self.key = key\n",
    "        return jax.random.normal(self.key, shape)\n",
    "\n",
    "    \n",
    "    def __call__(self, shape):\n",
    "        return self.sample(shape)\n",
    "\n",
    "rng = RNG(42)"
   ]
  },
  {
   "cell_type": "code",
   "execution_count": 2,
   "metadata": {},
   "outputs": [],
   "source": [
    "import pandas as pd\n",
    "import numpy as np\n",
    "train_data = pd.read_csv(\"data/train_data.csv\")\n",
    "X_train = train_data[\"full_text_cleaned\"]"
   ]
  },
  {
   "cell_type": "code",
   "execution_count": 3,
   "metadata": {},
   "outputs": [],
   "source": [
    "from sklearn.feature_extraction.text import CountVectorizer\n",
    "\n",
    "vectorizer = CountVectorizer(strip_accents=\"unicode\", min_df=100, max_df=0.3, binary=True).fit(X_train)\n",
    "\n",
    "X_train = vectorizer.transform(X_train)"
   ]
  },
  {
   "cell_type": "code",
   "execution_count": 4,
   "metadata": {},
   "outputs": [],
   "source": [
    "@jit\n",
    "def fill_diagonal(x, value=0):\n",
    "    diag_elements = jnp.diag_indices(x.shape[0])\n",
    "    return x.at[diag_elements].set(value)\n",
    "\n",
    "\n",
    "@jit\n",
    "def get_topic_from_logits(topic_logits):\n",
    "    return nn.softmax(topic_logits, axis=1)\n",
    "\n",
    "\n",
    "@jit\n",
    "def topic_independence_loss(topic_logits):\n",
    "    topics = get_topic_from_logits(topic_logits)\n",
    "    topic_correlation = jnp.einsum('ik,jk->ij', topics, topics)\n",
    "    return fill_diagonal(topic_correlation, value=0).sum()\n",
    "\n",
    "\n",
    "@jit\n",
    "def topic_document_loss(a, documents, topic_logits):\n",
    "    topics = get_topic_from_logits(topic_logits)\n",
    "    return optax.l2_loss(a@topics, documents).sum()\n",
    "\n",
    "\n",
    "@jit\n",
    "def total_loss(params, documents, l=1):\n",
    "    a = params[\"a\"]\n",
    "    topic_logits = params[\"topic_logits\"]\n",
    "    return topic_document_loss(a, documents, topic_logits) + l*topic_independence_loss(topic_logits)\n",
    "\n",
    "\n",
    "grad_topic_document_loss = jit(value_and_grad(topic_document_loss))\n",
    "grad_topic_independence_loss = jit(value_and_grad(topic_independence_loss))\n",
    "grad_total_loss = jit(value_and_grad(total_loss))"
   ]
  },
  {
   "cell_type": "code",
   "execution_count": 10,
   "metadata": {},
   "outputs": [],
   "source": [
    "n_documents, vocab_size = X_train.shape\n",
    "n_topics = 4\n",
    "batch_size = 2**16\n",
    "outer_lr = 1\n",
    "inner_lr = 1\n",
    "\n",
    "X_train = X_train[np.random.permutation(X_train.shape[0])]"
   ]
  },
  {
   "cell_type": "code",
   "execution_count": 18,
   "metadata": {},
   "outputs": [
    {
     "data": {
      "image/png": "[encoded data removed]",
      "text/plain": [
       "<Figure size 432x288 with 1 Axes>"
      ]
     },
     "metadata": {
      "needs_background": "light"
     },
     "output_type": "display_data"
    }
   ],
   "source": [
    "optimizer = optax.adamw(learning_rate=1\n",
    "params = {\n",
    "    \"topic_logits\": rng((n_topics, vocab_size)),\n",
    "    \"a\": rng((batch_size, n_topics)),\n",
    "}\n",
    "opt_state = optimizer.init(params)\n",
    "\n",
    "documents = jnp.array(X_train[:batch_size].todense())\n",
    "\n",
    "losses = []\n",
    "for epoch in range(50):\n",
    "    value, grads = grad_total_loss(params, documents, l=1e5)\n",
    "\n",
    "    updates, opt_state = optimizer.update(grads, opt_state, params)\n",
    "    params = optax.apply_updates(params, updates)\n",
    "\n",
    "    losses.append(value)\n",
    "\n",
    "    clear_output(True)\n",
    "    pl.semilogy(losses)\n",
    "    pl.show()\n"
   ]
  },
  {
   "cell_type": "code",
   "execution_count": 21,
   "metadata": {},
   "outputs": [
    {
     "name": "stdout",
     "output_type": "stream",
     "text": [
      "['new', '0000', 'year', 'say', 'video']\n",
      "['make', 'get', 'us', 'want', 'way']\n",
      "['photo', 'look', 'week', 'day', 'see']\n",
      "['00', 'one', 'day', 'like', 'thing']\n"
     ]
    }
   ],
   "source": [
    "topic_words = params[\"topic_logits\"].argsort(axis=1)[:, -5:]\n",
    "\n",
    "for words in topic_words:\n",
    "    print([vectorizer.get_feature_names()[i] for i in words[::-1]])"
   ]
  }
 ],
 "metadata": {
  "interpreter": {
   "hash": "f38bca3c9600444284abf86780be38c386e032d708dbe2e8970d98e9b2d0aa36"
  },
  "kernelspec": {
   "display_name": "Python 3.9.7 ('base')",
   "language": "python",
   "name": "python3"
  },
  "language_info": {
   "codemirror_mode": {
    "name": "ipython",
    "version": 3
   },
   "file_extension": ".py",
   "mimetype": "text/x-python",
   "name": "python",
   "nbconvert_exporter": "python",
   "pygments_lexer": "ipython3",
   "version": "3.9.7"
  },
  "orig_nbformat": 4
 },
 "nbformat": 4,
 "nbformat_minor": 2
}
