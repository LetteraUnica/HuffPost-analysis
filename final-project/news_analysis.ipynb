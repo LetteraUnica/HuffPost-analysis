{
 "cells": [
  {
   "cell_type": "markdown",
   "metadata": {},
   "source": [
    "## Imports"
   ]
  },
  {
   "cell_type": "code",
   "execution_count": 2,
   "metadata": {},
   "outputs": [],
   "source": [
    "import numpy as np\n",
    "import pandas as pd\n",
    "import pylab as pl\n",
    "import seaborn as sns\n",
    "sns.set_theme()\n",
    "\n",
    "from IPython.display import clear_output\n",
    "from tqdm.notebook import trange\n",
    "\n",
    "from matplotlib import rcParams\n",
    "rcParams.update({'figure.autolayout': True})\n",
    "\n",
    "from utils import *\n",
    "from document_cleaner import *"
   ]
  },
  {
   "cell_type": "markdown",
   "metadata": {},
   "source": [
    "## Load data"
   ]
  },
  {
   "cell_type": "markdown",
   "metadata": {},
   "source": [
    "### From kaggle"
   ]
  },
  {
   "cell_type": "code",
   "execution_count": 3,
   "metadata": {},
   "outputs": [],
   "source": [
    "from kaggle.api.kaggle_api_extended import KaggleApi\n",
    "import json\n",
    "  \n",
    "with open('kaggle.json') as f:\n",
    "    data = json.load(f)\n",
    "\n",
    "os.environ['KAGGLE_USERNAME'] = data[\"username\"]\n",
    "os.environ['KAGGLE_KEY'] = data[\"key\"]\n",
    "\n",
    "api = KaggleApi()\n",
    "api.authenticate()"
   ]
  },
  {
   "cell_type": "code",
   "execution_count": null,
   "metadata": {},
   "outputs": [],
   "source": [
    "api.dataset_download_files('rmisra/news-category-dataset', path=\"./data\", unzip=True)"
   ]
  },
  {
   "cell_type": "markdown",
   "metadata": {},
   "source": [
    "### From disk"
   ]
  },
  {
   "cell_type": "code",
   "execution_count": 33,
   "metadata": {},
   "outputs": [],
   "source": [
    "data = pd.read_json(\"data/News_Category_Dataset_v2.json\", lines=True)"
   ]
  },
  {
   "cell_type": "markdown",
   "metadata": {},
   "source": [
    "## Data cleaning"
   ]
  },
  {
   "cell_type": "code",
   "execution_count": 34,
   "metadata": {},
   "outputs": [],
   "source": [
    "data['old_category'] = data[\"category\"]"
   ]
  },
  {
   "cell_type": "code",
   "execution_count": 35,
   "metadata": {},
   "outputs": [],
   "source": [
    "data['category'] = data['category'].replace({\"HEALTHY LIVING\": \"WELLNESS\",\n",
    "                                             \"STYLE\": \"STYLE & BEAUTY\",\n",
    "                                             \"PARENTS\": \"PARENTING\",\n",
    "                                             \"TASTE\": \"FOOD & DRINK\",\n",
    "                                             \"BUSINESS\": \"BUSINESS & FINANCE\",\n",
    "                                             \"MONEY\": \"BUSINESS & FINANCE\",\n",
    "                                             \"THE WORLDPOST\": \"WORLD NEWS\",\n",
    "                                             \"WORLDPOST\": \"WORLD NEWS\",\n",
    "                                             \"TECH\": \"SCIENCE & TECH\",\n",
    "                                             \"SCIENCE\": \"SCIENCE & TECH\",\n",
    "                                             \"GREEN\": \"ENVIRONMENT\",\n",
    "                                             \"CULTURE & ARTS\": \"ARTS & CULTURE\",\n",
    "                                             \"ARTS\": \"ARTS & CULTURE\",\n",
    "                                             \"COLLEGE\": \"EDUCATION\"})\n"
   ]
  },
  {
   "cell_type": "code",
   "execution_count": 37,
   "metadata": {},
   "outputs": [],
   "source": [
    "data[\"full_text\"] = data[\"headline\"] + \". \" + data[\"short_description\"]"
   ]
  },
  {
   "cell_type": "code",
   "execution_count": 38,
   "metadata": {},
   "outputs": [
    {
     "data": {
      "image/png": "[encoded data removed]",
      "text/plain": [
       "<Figure size 432x288 with 1 Axes>"
      ]
     },
     "metadata": {},
     "output_type": "display_data"
    }
   ],
   "source": [
    "data[\"category\"].value_counts()[:10][::-1].plot.barh(title=\"Top 10 categories\", width=0.7)\n",
    "pl.xlabel('Number of articles')\n",
    "pl.savefig(\"top_10_categories.png\", dpi=200)"
   ]
  },
  {
   "cell_type": "code",
   "execution_count": 39,
   "metadata": {},
   "outputs": [],
   "source": [
    "documents, labels = data[\"full_text\"].to_numpy(), data[\"category\"].to_numpy()"
   ]
  },
  {
   "cell_type": "code",
   "execution_count": 40,
   "metadata": {},
   "outputs": [],
   "source": [
    "cleaner = DocumentCleaner()\n",
    "cleaned_documents = cleaner.clean(documents)"
   ]
  },
  {
   "cell_type": "markdown",
   "metadata": {},
   "source": [
    "### Collocations"
   ]
  },
  {
   "cell_type": "code",
   "execution_count": 41,
   "metadata": {},
   "outputs": [
    {
     "data": {
      "text/html": [
       "<div>\n",
       "<style scoped>\n",
       "    .dataframe tbody tr th:only-of-type {\n",
       "        vertical-align: middle;\n",
       "    }\n",
       "\n",
       "    .dataframe tbody tr th {\n",
       "        vertical-align: top;\n",
       "    }\n",
       "\n",
       "    .dataframe thead th {\n",
       "        text-align: right;\n",
       "    }\n",
       "</style>\n",
       "<table border=\"1\" class=\"dataframe\">\n",
       "  <thead>\n",
       "    <tr style=\"text-align: right;\">\n",
       "      <th></th>\n",
       "      <th>bigram</th>\n",
       "      <th>pmi</th>\n",
       "    </tr>\n",
       "  </thead>\n",
       "  <tbody>\n",
       "    <tr>\n",
       "      <th>0</th>\n",
       "      <td>(donald, trump)</td>\n",
       "      <td>2047.863099</td>\n",
       "    </tr>\n",
       "    <tr>\n",
       "      <th>1</th>\n",
       "      <td>(hillari, clinton)</td>\n",
       "      <td>1054.000462</td>\n",
       "    </tr>\n",
       "    <tr>\n",
       "      <th>2</th>\n",
       "      <td>(berni, sander)</td>\n",
       "      <td>534.781150</td>\n",
       "    </tr>\n",
       "    <tr>\n",
       "      <th>3</th>\n",
       "      <td>(new, york)</td>\n",
       "      <td>501.561828</td>\n",
       "    </tr>\n",
       "    <tr>\n",
       "      <th>4</th>\n",
       "      <td>(suprem, court)</td>\n",
       "      <td>457.214420</td>\n",
       "    </tr>\n",
       "    <tr>\n",
       "      <th>5</th>\n",
       "      <td>(los, angel)</td>\n",
       "      <td>351.713647</td>\n",
       "    </tr>\n",
       "    <tr>\n",
       "      <th>6</th>\n",
       "      <td>(ted, cruz)</td>\n",
       "      <td>271.381164</td>\n",
       "    </tr>\n",
       "    <tr>\n",
       "      <th>7</th>\n",
       "      <td>(taylor, swift)</td>\n",
       "      <td>262.431148</td>\n",
       "    </tr>\n",
       "    <tr>\n",
       "      <th>8</th>\n",
       "      <td>(tumblr, pinterest)</td>\n",
       "      <td>253.041254</td>\n",
       "    </tr>\n",
       "    <tr>\n",
       "      <th>9</th>\n",
       "      <td>(marco, rubio)</td>\n",
       "      <td>224.848895</td>\n",
       "    </tr>\n",
       "  </tbody>\n",
       "</table>\n",
       "</div>"
      ],
      "text/plain": [
       "                bigram          pmi\n",
       "0      (donald, trump)  2047.863099\n",
       "1   (hillari, clinton)  1054.000462\n",
       "2      (berni, sander)   534.781150\n",
       "3          (new, york)   501.561828\n",
       "4      (suprem, court)   457.214420\n",
       "5         (los, angel)   351.713647\n",
       "6          (ted, cruz)   271.381164\n",
       "7      (taylor, swift)   262.431148\n",
       "8  (tumblr, pinterest)   253.041254\n",
       "9       (marco, rubio)   224.848895"
      ]
     },
     "execution_count": 41,
     "metadata": {},
     "output_type": "execute_result"
    }
   ],
   "source": [
    "collocations = find_collocations(cleaned_documents)\n",
    "collocations.head(10)"
   ]
  },
  {
   "cell_type": "code",
   "execution_count": 43,
   "metadata": {},
   "outputs": [],
   "source": [
    "set_collocations = collocations.sort_values(by='pmi', ascending=False).head(1000)[\"bigram\"].to_list()"
   ]
  },
  {
   "cell_type": "code",
   "execution_count": 44,
   "metadata": {},
   "outputs": [
    {
     "data": {
      "application/vnd.jupyter.widget-view+json": {
       "model_id": "026597c1811e4139a9659d6488a9e90d",
       "version_major": 2,
       "version_minor": 0
      },
      "text/plain": [
       "Documents processed:   0%|          | 0/200853 [00:00<?, ?it/s]"
      ]
     },
     "metadata": {},
     "output_type": "display_data"
    }
   ],
   "source": [
    "cleaned_documents = apply_collocations(cleaned_documents, set_collocations)"
   ]
  },
  {
   "cell_type": "code",
   "execution_count": 45,
   "metadata": {},
   "outputs": [],
   "source": [
    "data[\"full_text_cleaned\"] = cleaned_documents"
   ]
  },
  {
   "cell_type": "code",
   "execution_count": 9,
   "metadata": {},
   "outputs": [],
   "source": [
    "# Remove where full_text_cleaned is nan\n",
    "data = data.dropna(subset=[\"full_text_cleaned\"])"
   ]
  },
  {
   "cell_type": "code",
   "execution_count": null,
   "metadata": {},
   "outputs": [],
   "source": [
    "data['date'] = pd.to_datetime(data['date'])\n",
    "data.drop(columns=[\"link\"], inplace=True)"
   ]
  },
  {
   "cell_type": "code",
   "execution_count": 13,
   "metadata": {},
   "outputs": [],
   "source": [
    "data.to_csv(\"data/news_data.csv\", index=False)"
   ]
  },
  {
   "cell_type": "code",
   "execution_count": 12,
   "metadata": {},
   "outputs": [],
   "source": [
    "data[data[\"date\"].dt.year.isin(list(range(2017, 2019)))].to_csv(\"data/test_data.csv\", index=False)"
   ]
  },
  {
   "cell_type": "markdown",
   "metadata": {},
   "source": [
    "## Data exploration"
   ]
  },
  {
   "cell_type": "code",
   "execution_count": 3,
   "metadata": {},
   "outputs": [],
   "source": [
    "data = pd.read_csv(\"data/news_data.csv\")\n",
    "cleaned_documents = data[\"full_text_cleaned\"].to_numpy()"
   ]
  },
  {
   "cell_type": "markdown",
   "metadata": {},
   "source": [
    "### Word cloud"
   ]
  },
  {
   "cell_type": "code",
   "execution_count": 15,
   "metadata": {},
   "outputs": [],
   "source": [
    "from wordcloud import WordCloud\n",
    "from PIL import Image"
   ]
  },
  {
   "cell_type": "code",
   "execution_count": 49,
   "metadata": {},
   "outputs": [],
   "source": [
    "%matplotlib qt\n",
    "text = ' '.join(documents_to_words(cleaned_documents))\n",
    "mask = np.array(Image.open(\"USA_Flag_Map.png\"))\n",
    "wordcloud = WordCloud(max_font_size=160,\n",
    "                      colormap=pl.get_cmap(\"viridis\"),\n",
    "                      background_color=\"white\",\n",
    "                      min_word_length=2,\n",
    "                      mask=255 - mask[:, :, -1]).generate(text)\n",
    "pl.imshow(wordcloud, interpolation=\"bilinear\")\n",
    "pl.axis(\"off\")\n",
    "pl.show()\n",
    "pl.savefig(\"wordcloud.png\", dpi=300, bbox_inches=\"tight\")\n"
   ]
  },
  {
   "cell_type": "markdown",
   "metadata": {},
   "source": [
    "### T-SNE"
   ]
  },
  {
   "cell_type": "code",
   "execution_count": 46,
   "metadata": {},
   "outputs": [],
   "source": [
    "# filter data to the 10most probable classes\n",
    "data_filtered = data[data.category.isin(data.category.value_counts().head(10).index)]\n",
    "X, y = data_filtered[\"full_text_cleaned\"].to_numpy(), data_filtered[\"category\"].to_numpy()\n",
    "\n",
    "# shuffle data\n",
    "perm = np.random.permutation(X.shape[0])\n",
    "X = X[perm]\n",
    "y = y[perm]"
   ]
  },
  {
   "cell_type": "code",
   "execution_count": 47,
   "metadata": {},
   "outputs": [],
   "source": [
    "from sklearn.feature_extraction.text import TfidfVectorizer\n",
    "from sklearn.preprocessing import LabelEncoder\n",
    "le = LabelEncoder().fit(y)\n",
    "y = le.transform(y)\n",
    "\n",
    "X = TfidfVectorizer(ngram_range=(1, 1),\n",
    "                    stop_words='english',\n",
    "                    strip_accents=\"unicode\",\n",
    "                    analyzer='word',\n",
    "                    min_df=0.001,\n",
    "                    max_df=0.7,\n",
    "                    sublinear_tf=True,\n",
    "                    use_idf=True).fit_transform(X)\n"
   ]
  },
  {
   "cell_type": "code",
   "execution_count": 48,
   "metadata": {},
   "outputs": [],
   "source": [
    "import numpy as np\n",
    "from sklearn.manifold import TSNE\n",
    "\n",
    "n_samples = 10000\n",
    "\n",
    "t_sne = TSNE(n_components=2, verbose=1, perplexity=50).fit(X[:n_samples])\n",
    "clear_output()"
   ]
  },
  {
   "cell_type": "code",
   "execution_count": 54,
   "metadata": {},
   "outputs": [],
   "source": [
    "%matplotlib qt"
   ]
  },
  {
   "cell_type": "code",
   "execution_count": 99,
   "metadata": {},
   "outputs": [],
   "source": [
    "group = y[:n_samples]\n",
    "X_embedded = t_sne.embedding_\n",
    "\n",
    "fig, ax = pl.subplots()\n",
    "for g in range(10):\n",
    "    if g in [3, 5, 0]:\n",
    "        ax.scatter(X_embedded[group==g, 0], X_embedded[group==g, 1], label=le.classes_[g], s=7, alpha=0.5, color=pl.cm.get_cmap(\"tab10\")(g))\n",
    "    else:\n",
    "        ax.scatter(X_embedded[group==g, 0], X_embedded[group==g, 1], s=7, alpha=0.5, color=pl.cm.get_cmap(\"tab10\")(g))\n",
    "ax.legend(loc='upper center', bbox_to_anchor=(0.5, 1.05),\n",
    "          ncol=3, fancybox=True, shadow=False)\n",
    "pl.savefig(\"tsne.svg\", dpi=300, bbox_inches=\"tight\")"
   ]
  },
  {
   "cell_type": "markdown",
   "metadata": {},
   "source": [
    "## Topic modeling"
   ]
  },
  {
   "cell_type": "markdown",
   "metadata": {},
   "source": [
    "### SVD/NMF"
   ]
  },
  {
   "cell_type": "code",
   "execution_count": 29,
   "metadata": {},
   "outputs": [],
   "source": [
    "from sklearn.feature_extraction.text import TfidfVectorizer\n",
    "tfidf_vectorizer = TfidfVectorizer(ngram_range=(1,1), \n",
    "                                   stop_words='english', \n",
    "                                   analyzer='word', \n",
    "                                   min_df=0.001, \n",
    "                                   max_df=0.7, \n",
    "                                   sublinear_tf=True, \n",
    "                                   use_idf=True)\n",
    "\n",
    "X = tfidf_vectorizer.fit_transform(data[\"full_text_cleaned\"])"
   ]
  },
  {
   "cell_type": "code",
   "execution_count": 33,
   "metadata": {},
   "outputs": [],
   "source": [
    "from sklearn.decomposition import TruncatedSVD\n",
    "# set number of latent components\n",
    "k = 50\n",
    "\n",
    "svd = TruncatedSVD(n_components=k)\n",
    "U = svd.fit_transform(X)\n",
    "S = svd.singular_values_\n",
    "V = svd.components_"
   ]
  },
  {
   "cell_type": "code",
   "execution_count": 23,
   "metadata": {},
   "outputs": [],
   "source": [
    "from sklearn.decomposition import NMF\n",
    "nmf = NMF(n_components=k, init='nndsvd', random_state=0)\n",
    "\n",
    "W = nmf.fit_transform(X)\n",
    "H = nmf.components_"
   ]
  },
  {
   "cell_type": "code",
   "execution_count": 56,
   "metadata": {},
   "outputs": [
    {
     "data": {
      "text/plain": [
       "['make, new, time, photo, day',\n",
       " 'trump, donald_trump, presid, say, republican',\n",
       " 'photo, 0000, look, week, new',\n",
       " 'new, 0000, year, world, time',\n",
       " 'new, make, photo, trump, video']"
      ]
     },
     "execution_count": 56,
     "metadata": {},
     "output_type": "execute_result"
    }
   ],
   "source": [
    "terms = tfidf_vectorizer.get_feature_names()\n",
    "\n",
    "show_topics(V, terms)"
   ]
  },
  {
   "cell_type": "markdown",
   "metadata": {},
   "source": [
    "### sklearn LDA"
   ]
  },
  {
   "cell_type": "code",
   "execution_count": 61,
   "metadata": {},
   "outputs": [],
   "source": [
    "# shuffle data\n",
    "X = data[\"full_text_cleaned\"].to_numpy()\n",
    "perm = np.random.permutation(X.shape[0])\n",
    "X = X[perm]"
   ]
  },
  {
   "cell_type": "code",
   "execution_count": 62,
   "metadata": {},
   "outputs": [
    {
     "name": "stdout",
     "output_type": "stream",
     "text": [
      "iteration: 1 of max_iter: 10\n",
      "iteration: 2 of max_iter: 10\n",
      "iteration: 3 of max_iter: 10\n",
      "iteration: 4 of max_iter: 10\n",
      "iteration: 5 of max_iter: 10\n",
      "iteration: 6 of max_iter: 10\n",
      "iteration: 7 of max_iter: 10\n",
      "iteration: 8 of max_iter: 10\n",
      "iteration: 9 of max_iter: 10\n",
      "iteration: 10 of max_iter: 10\n"
     ]
    },
    {
     "data": {
      "text/plain": [
       "LatentDirichletAllocation(n_components=5, random_state=0, verbose=1)"
      ]
     },
     "execution_count": 62,
     "metadata": {},
     "output_type": "execute_result"
    }
   ],
   "source": [
    "from sklearn.decomposition import LatentDirichletAllocation\n",
    "from sklearn.feature_extraction.text import TfidfVectorizer, CountVectorizer\n",
    "vectorizer = TfidfVectorizer(ngram_range=(1,1), \n",
    "                                   stop_words='english', \n",
    "                                   analyzer='word', \n",
    "                                   min_df=50, \n",
    "                                   max_df=0.5,\n",
    "                                   sublinear_tf=True).fit(X)\n",
    "\n",
    "X = vectorizer.transform(X)\n",
    "lda = LatentDirichletAllocation(n_components=5, random_state=0,verbose=1)\n",
    "lda.fit(X[:10000])"
   ]
  },
  {
   "cell_type": "code",
   "execution_count": 63,
   "metadata": {},
   "outputs": [
    {
     "name": "stdout",
     "output_type": "stream",
     "text": [
      "['0000', 'peopl', 'say', 'way', 'polic']\n",
      "['life', 'say', 'donald_trump', 'new', 'trump']\n",
      "['video', 'year', 'say', '0000', 'new']\n",
      "['like', 'day', 'time', 'make', 'thing']\n",
      "['dress', '0000', 'wed', 'new', 'photo']\n"
     ]
    }
   ],
   "source": [
    "tokens = [np.argsort(component)[-5:] for component in lda.components_]\n",
    "for token in tokens:\n",
    "    print([vectorizer.get_feature_names()[i] for i in token])"
   ]
  },
  {
   "cell_type": "markdown",
   "metadata": {},
   "source": [
    "### gensim LDA"
   ]
  },
  {
   "cell_type": "code",
   "execution_count": 3,
   "metadata": {},
   "outputs": [],
   "source": [
    "# take only the politics category\n",
    "topics_data = data"
   ]
  },
  {
   "cell_type": "code",
   "execution_count": 4,
   "metadata": {},
   "outputs": [],
   "source": [
    "from gensim.models import LdaMulticore, TfidfModel, CoherenceModel\n",
    "from gensim.corpora import Dictionary\n",
    "\n",
    "\n",
    "instances = pd.Series(remove_short_words(topics_data[\"full_text_cleaned\"], 2)).apply(str.split)\n",
    "\n",
    "#instances = instances.sample(25000, replace=False)\n",
    "\n",
    "dictionary = Dictionary(instances)\n",
    "dictionary.filter_extremes(no_below=100, no_above=0.3)"
   ]
  },
  {
   "cell_type": "code",
   "execution_count": 5,
   "metadata": {},
   "outputs": [],
   "source": [
    "ldacorpus = [dictionary.doc2bow(text) for text in instances]\n",
    "tfidfmodel = TfidfModel(ldacorpus)\n",
    "model_corpus = tfidfmodel[ldacorpus]"
   ]
  },
  {
   "cell_type": "markdown",
   "metadata": {},
   "source": [
    "#### Umass/CV score"
   ]
  },
  {
   "cell_type": "code",
   "execution_count": 183,
   "metadata": {},
   "outputs": [
    {
     "data": {
      "application/vnd.jupyter.widget-view+json": {
       "model_id": "f83cd3c99a344538aed08a23f34fa5b0",
       "version_major": 2,
       "version_minor": 0
      },
      "text/plain": [
       "  0%|          | 0/6 [00:00<?, ?it/s]"
      ]
     },
     "metadata": {},
     "output_type": "display_data"
    }
   ],
   "source": [
    "coherence_values = []\n",
    "\n",
    "dev_size = 20000\n",
    "eval_size = 5000\n",
    "\n",
    "for num_topics in trange(4, 10):\n",
    "    model = LdaMulticore(corpus=model_corpus[:dev_size], \n",
    "                         id2word=dictionary, \n",
    "                         num_topics=num_topics,\n",
    "                         workers=4,\n",
    "                         alpha=\"symmetric\",\n",
    "                         eta=\"symmetric\",\n",
    "                         passes=10)\n",
    "\n",
    "    coherencemodel_umass = CoherenceModel(model=model, \n",
    "                                          texts=instances[dev_size:dev_size+eval_size], \n",
    "                                          dictionary=dictionary, \n",
    "                                          coherence='u_mass')\n",
    "\n",
    "    coherencemodel_cv = CoherenceModel(model=model, \n",
    "                                       texts=instances[dev_size:dev_size+eval_size], \n",
    "                                       dictionary=dictionary, \n",
    "                                       coherence='c_v')\n",
    "\n",
    "    umass_score = coherencemodel_umass.get_coherence()\n",
    "    cv_score = coherencemodel_cv.get_coherence()\n",
    "    \n",
    "    coherence_values.append((num_topics, umass_score, cv_score))"
   ]
  },
  {
   "cell_type": "code",
   "execution_count": 184,
   "metadata": {},
   "outputs": [],
   "source": [
    "coherence_values = np.array(coherence_values)"
   ]
  },
  {
   "cell_type": "code",
   "execution_count": 185,
   "metadata": {},
   "outputs": [],
   "source": [
    "# plot coherence values\n",
    "fig, subplots = pl.subplots(ncols=2, figsize=(10, 5))\n",
    "subplots[0].plot(coherence_values[:, 0], coherence_values[:, 2])\n",
    "subplots[0].set_xlabel(\"Number of Topics\")\n",
    "subplots[0].set_ylabel(\"Coherence score\")\n",
    "subplots[0].set_title(\"CV\")\n",
    "subplots[1].plot(coherence_values[:, 0], coherence_values[:, 1])\n",
    "subplots[1].set_xlabel(\"Number of Topics\")\n",
    "subplots[1].set_title(\"u_mass\")\n",
    "fig.show()\n",
    "#pl.savefig(\"coherence.png\", dpi=300, bbox_inches=\"tight\")"
   ]
  },
  {
   "cell_type": "markdown",
   "metadata": {},
   "source": [
    "#### Model"
   ]
  },
  {
   "cell_type": "code",
   "execution_count": 41,
   "metadata": {},
   "outputs": [],
   "source": [
    "model = LdaMulticore(corpus=model_corpus,\n",
    "                     id2word=dictionary,\n",
    "                     num_topics=4,\n",
    "                     alpha=\"symmetric\",\n",
    "                     eta=\"symmetric\",\n",
    "                     passes=10,\n",
    "                     workers=4)"
   ]
  },
  {
   "cell_type": "code",
   "execution_count": 42,
   "metadata": {},
   "outputs": [
    {
     "data": {
      "text/plain": [
       "['photo, video, wed, 0000, babi',\n",
       " 'trump, report, state, presid, say',\n",
       " 'life, way, make, peopl, time',\n",
       " 'photo, travel, day, home, recip']"
      ]
     },
     "execution_count": 42,
     "metadata": {},
     "output_type": "execute_result"
    }
   ],
   "source": [
    "get_topic_descriptors(model, num_words=5)"
   ]
  },
  {
   "cell_type": "code",
   "execution_count": 43,
   "metadata": {},
   "outputs": [],
   "source": [
    "descriptors = get_topic_descriptors(model, num_words=2)"
   ]
  },
  {
   "cell_type": "code",
   "execution_count": 44,
   "metadata": {},
   "outputs": [],
   "source": [
    "documents_by_topics = []\n",
    "for document in model[model_corpus]:\n",
    "    topics = [topic for _, topic in document]\n",
    "    documents_by_topics.append(topics)"
   ]
  },
  {
   "cell_type": "code",
   "execution_count": 50,
   "metadata": {},
   "outputs": [],
   "source": [
    "topic_distros = pd.DataFrame(index=topics_data.index, data=documents_by_topics, columns=descriptors)\n",
    "topic_distros[\"date\"] = topics_data[\"date\"].astype(\"datetime64[ns]\")"
   ]
  },
  {
   "cell_type": "code",
   "execution_count": null,
   "metadata": {},
   "outputs": [],
   "source": [
    "most_common_categories = topic_distros.groupby(\"category\").count().sort_values(by=\"date\", ascending=False).index.values"
   ]
  },
  {
   "cell_type": "code",
   "execution_count": 90,
   "metadata": {},
   "outputs": [],
   "source": [
    "%matplotlib qt"
   ]
  },
  {
   "cell_type": "code",
   "execution_count": 132,
   "metadata": {},
   "outputs": [],
   "source": [
    "topic_distros[topic_distros[\"category\"].isin(most_common_categories[:10])].groupby(\"category\").mean().plot.barh(figsize=(7, 10))\n",
    "pl.legend(loc='upper center', bbox_to_anchor=(0.5, 1.05),\n",
    "          ncol=3, fancybox=True, shadow=True)\n",
    "pl.savefig(\"topics_by_category.png\", dpi=300, bbox_inches=\"tight\")"
   ]
  },
  {
   "cell_type": "code",
   "execution_count": 51,
   "metadata": {},
   "outputs": [
    {
     "data": {
      "text/plain": [
       "<matplotlib.legend.Legend at 0x7fc9642297f0>"
      ]
     },
     "execution_count": 51,
     "metadata": {},
     "output_type": "execute_result"
    },
    {
     "data": {
      "image/png": "[encoded data removed]",
      "text/plain": [
       "<Figure size 432x288 with 1 Axes>"
      ]
     },
     "metadata": {},
     "output_type": "display_data"
    }
   ],
   "source": [
    "topic_distros.groupby(topic_distros['date'].map(lambda x: x.year)).mean().plot(kind='bar')\n",
    "pl.legend(loc='upper right', bbox_to_anchor=(0.65, 1.05),\n",
    "          ncol=2, fancybox=True, shadow=False)\n",
    "#pl.savefig(\"topics_by_year.png\", dpi=300, bbox_inches=\"tight\")"
   ]
  },
  {
   "cell_type": "markdown",
   "metadata": {},
   "source": [
    "## Doc2Vec"
   ]
  },
  {
   "cell_type": "code",
   "execution_count": 29,
   "metadata": {},
   "outputs": [],
   "source": [
    "from gensim.models import Doc2Vec\n",
    "from gensim.models.doc2vec import FAST_VERSION\n",
    "from gensim.models.doc2vec import TaggedDocument\n",
    "\n",
    "corpus = []\n",
    "\n",
    "for document, label in zip(data[\"full_text_cleaned\"], data[\"category\"]):\n",
    "    corpus.append(TaggedDocument(words=document.split(), tags=[label]))\n",
    "\n",
    "d2v_model = Doc2Vec(vector_size=100,\n",
    "                    hs=0,\n",
    "                    sample=1e-4,\n",
    "                    negative=5,\n",
    "                    min_count=100,\n",
    "                    workers=-1,\n",
    "                    epochs=100,\n",
    "                    dm=0, \n",
    "                    dbow_words=1)\n",
    "d2v_model.build_vocab(corpus)\n",
    "d2v_model.train(corpus, total_examples=d2v_model.corpus_count, epochs=d2v_model.epochs)"
   ]
  },
  {
   "cell_type": "code",
   "execution_count": 33,
   "metadata": {},
   "outputs": [
    {
     "data": {
      "text/plain": [
       "[('LATINO VOICES', 0.2739564776420593),\n",
       " ('BLACK VOICES', 0.07782597094774246),\n",
       " ('FOOD & DRINK', 0.07342368364334106),\n",
       " ('WEIRD NEWS', 0.06434270739555359),\n",
       " ('RELIGION', 0.062377333641052246)]"
      ]
     },
     "execution_count": 33,
     "metadata": {},
     "output_type": "execute_result"
    }
   ],
   "source": [
    "label = \"POLITICS\"\n",
    "d2v_model.dv.most_similar(str(label), topn=5)"
   ]
  },
  {
   "cell_type": "markdown",
   "metadata": {},
   "source": [
    "# Text classification"
   ]
  },
  {
   "cell_type": "code",
   "execution_count": 121,
   "metadata": {},
   "outputs": [],
   "source": [
    "test_data = pd.read_csv(\"data/test_data.csv\")\n",
    "train_data = pd.read_csv(\"data/train_data.csv\")\n",
    "\n",
    "X_train = train_data[\"full_text\"]\n",
    "y_train = train_data[\"category\"]\n",
    "X_test = test_data[\"full_text\"]\n",
    "y_test = test_data[\"category\"]"
   ]
  },
  {
   "cell_type": "code",
   "execution_count": 122,
   "metadata": {},
   "outputs": [],
   "source": [
    "# Encode y labels\n",
    "from sklearn.preprocessing import LabelEncoder\n",
    "le = LabelEncoder().fit(y_train)\n",
    "y_train = le.transform(y_train)\n",
    "y_test = le.transform(y_test)"
   ]
  },
  {
   "cell_type": "markdown",
   "metadata": {},
   "source": [
    "## Naive Bayes"
   ]
  },
  {
   "cell_type": "code",
   "execution_count": 79,
   "metadata": {},
   "outputs": [],
   "source": [
    "# Count vectorizer + Naive Bayes\n",
    "from sklearn.feature_extraction.text import CountVectorizer\n",
    "from sklearn.naive_bayes import MultinomialNB\n",
    "count_vectorizer = CountVectorizer(lowercase=True,\n",
    "                                   min_df=0.00003,\n",
    "                                   max_df=0.7,\n",
    "                                   strip_accents=\"unicode\",\n",
    "                                   ngram_range=(1, 2),\n",
    "                                   stop_words=\"english\")\n",
    "mnb = MultinomialNB()"
   ]
  },
  {
   "cell_type": "code",
   "execution_count": 80,
   "metadata": {},
   "outputs": [
    {
     "data": {
      "text/plain": [
       "Pipeline(steps=[('vectorizer',\n",
       "                 CountVectorizer(max_df=0.7, min_df=3e-05, ngram_range=(1, 2),\n",
       "                                 stop_words='english',\n",
       "                                 strip_accents='unicode')),\n",
       "                ('classifier', MultinomialNB())])"
      ]
     },
     "execution_count": 80,
     "metadata": {},
     "output_type": "execute_result"
    }
   ],
   "source": [
    "from sklearn.pipeline import Pipeline\n",
    "def make_model(vectorizer, classifier):\n",
    "    return Pipeline([('vectorizer', vectorizer), ('classifier', classifier)])\n",
    "\n",
    "model = make_model(count_vectorizer, mnb)\n",
    "model.fit(X_train, y_train)"
   ]
  },
  {
   "cell_type": "code",
   "execution_count": 81,
   "metadata": {},
   "outputs": [
    {
     "name": "stdout",
     "output_type": "stream",
     "text": [
      "Model took 1.31 seconds to predict 38472 documents\n",
      "Time per document: 0.034 ms\n",
      "F1 macro: 0.36\n",
      "F1 weighted: 0.61\n"
     ]
    }
   ],
   "source": [
    "get_model_report(model, X_test, y_test)"
   ]
  },
  {
   "cell_type": "markdown",
   "metadata": {},
   "source": [
    "## Logreg"
   ]
  },
  {
   "cell_type": "code",
   "execution_count": 138,
   "metadata": {},
   "outputs": [],
   "source": [
    "# Tfidf vectorizer + log reg\n",
    "from sklearn.feature_extraction.text import TfidfVectorizer\n",
    "from sklearn.linear_model import LogisticRegression\n",
    "tfidf_vectorizer = TfidfVectorizer(lowercase=True,\n",
    "                                   min_df=0.00003,\n",
    "                                   max_df=0.7,\n",
    "                                   sublinear_tf=True,\n",
    "                                   strip_accents=\"unicode\",\n",
    "                                   ngram_range=(1,2),\n",
    "                                   stop_words=\"english\")\n",
    "logreg = LogisticRegression(n_jobs=4,\n",
    "                            max_iter=1000,\n",
    "                            solver=\"saga\",\n",
    "                            verbose=1,\n",
    "                            tol=0.01,\n",
    "                            C=3.46)\n"
   ]
  },
  {
   "cell_type": "code",
   "execution_count": 139,
   "metadata": {},
   "outputs": [],
   "source": [
    "# Pipeline\n",
    "model = make_model(tfidf_vectorizer, logreg)\n",
    "model.fit(X_train, y_train)\n",
    "clear_output()"
   ]
  },
  {
   "cell_type": "code",
   "execution_count": 140,
   "metadata": {},
   "outputs": [
    {
     "name": "stdout",
     "output_type": "stream",
     "text": [
      "Model took 1.38 seconds to predict 38472 documents\n",
      "Time per document: 0.036 ms\n",
      "F1 macro: 0.40\n",
      "F1 weighted: 0.64\n"
     ]
    }
   ],
   "source": [
    "get_model_report(model, X_test, y_test)"
   ]
  },
  {
   "cell_type": "markdown",
   "metadata": {},
   "source": [
    "## Optuna tuning"
   ]
  },
  {
   "cell_type": "code",
   "execution_count": 95,
   "metadata": {},
   "outputs": [
    {
     "name": "stderr",
     "output_type": "stream",
     "text": [
      "\u001b[32m[I 2022-05-30 16:32:56,733]\u001b[0m Trial 29 finished with value: 0.6393640086858344 and parameters: {'C': 0.5203721716747812}. Best is trial 28 with value: 0.6699633580028699.\u001b[0m\n"
     ]
    }
   ],
   "source": [
    "import optuna\n",
    "from sklearn.metrics import log_loss\n",
    "from sklearn.model_selection import train_test_split\n",
    "X_train, X_val, y_train, y_val = train_test_split(X_train, y_train, test_size=0.2, random_state=42)\n",
    "def objective(trial):\n",
    "    C = trial.suggest_float('C', 1e-4, 1e4, log=True)\n",
    "    tfidf_vectorizer = TfidfVectorizer(lowercase=True,\n",
    "                                   min_df=0.00003,\n",
    "                                   max_df=0.7,\n",
    "                                   sublinear_tf=True,\n",
    "                                   strip_accents=\"unicode\",\n",
    "                                   ngram_range=(1, 2),\n",
    "                                   stop_words=\"english\")\n",
    "    logreg = LogisticRegression(n_jobs=4,\n",
    "                                max_iter=1000,\n",
    "                                solver=\"saga\",\n",
    "                                verbose=1,\n",
    "                                tol=0.03,\n",
    "                                C=C)\n",
    "    model = make_model(tfidf_vectorizer, logreg)\n",
    "    model.fit(X_train, y_train)\n",
    "    clear_output()\n",
    "    return f1_score(y_val, model.predict(X_val), average='weighted')\n",
    "\n",
    "study = optuna.create_study(direction=\"maximize\")\n",
    "study.optimize(objective, n_trials=30)"
   ]
  },
  {
   "cell_type": "code",
   "execution_count": 97,
   "metadata": {},
   "outputs": [
    {
     "data": {
      "text/plain": [
       "{'C': 3.463580963002556}"
      ]
     },
     "execution_count": 97,
     "metadata": {},
     "output_type": "execute_result"
    }
   ],
   "source": [
    "values = [trial.values for trial in study.trials]\n",
    "params = [trial.params[\"C\"] for trial in study.trials]\n",
    "study.best_params"
   ]
  },
  {
   "cell_type": "code",
   "execution_count": 117,
   "metadata": {},
   "outputs": [
    {
     "data": {
      "image/png": "[encoded data removed]",
      "text/plain": [
       "<Figure size 432x288 with 1 Axes>"
      ]
     },
     "metadata": {},
     "output_type": "display_data"
    }
   ],
   "source": [
    "import seaborn\n",
    "seaborn.set_theme(\"notebook\", style=\"darkgrid\")\n",
    "pl.plot(params, values, 'o', label=\"trials\")\n",
    "pl.ylim(0., 0.75)\n",
    "pl.xscale(\"log\")\n",
    "pl.xlabel(\"C\")\n",
    "pl.ylabel(\"F1 weighted\")\n",
    "pl.legend()\n",
    "pl.savefig(\"log_reg_C.svg\")"
   ]
  },
  {
   "cell_type": "code",
   "execution_count": 115,
   "metadata": {},
   "outputs": [
    {
     "data": {
      "image/png": "[encoded data removed]",
      "text/plain": [
       "<Figure size 432x288 with 1 Axes>"
      ]
     },
     "metadata": {},
     "output_type": "display_data"
    }
   ],
   "source": [
    "pl.plot(params, values, 'o', label=\"trials\")\n",
    "pl.xlim(1, 8)\n",
    "pl.ylim(0.655, 0.675)\n",
    "pl.xlabel(\"C\")\n",
    "pl.ylabel(\"F1 weighted\")\n",
    "pl.legend()\n",
    "pl.savefig(\"log_reg_C2.svg\")"
   ]
  }
 ],
 "metadata": {
  "interpreter": {
   "hash": "f38bca3c9600444284abf86780be38c386e032d708dbe2e8970d98e9b2d0aa36"
  },
  "kernelspec": {
   "display_name": "Python 3.9.7 ('base')",
   "language": "python",
   "name": "python3"
  },
  "language_info": {
   "codemirror_mode": {
    "name": "ipython",
    "version": 3
   },
   "file_extension": ".py",
   "mimetype": "text/x-python",
   "name": "python",
   "nbconvert_exporter": "python",
   "pygments_lexer": "ipython3",
   "version": "3.9.7"
  },
  "orig_nbformat": 4
 },
 "nbformat": 4,
 "nbformat_minor": 2
}
