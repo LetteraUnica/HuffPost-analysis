{
  "cells": [
    {
      "cell_type": "code",
      "source": [
        "!git clone https://github.com/LetteraUnica/NLP-units.git"
      ],
      "metadata": {
        "id": "BlAcRfOAbO03"
      },
      "execution_count": null,
      "outputs": []
    },
    {
      "cell_type": "code",
      "source": [
        "%cd NLP-units/final-project/"
      ],
      "metadata": {
        "colab": {
          "base_uri": "https://localhost:8080/"
        },
        "id": "2OqhqBHjbpbJ",
        "outputId": "524a5b0d-7cd4-4359-944e-9a55bf8ed31e"
      },
      "execution_count": 2,
      "outputs": [
        {
          "output_type": "stream",
          "name": "stdout",
          "text": [
            "/content/NLP-units/final-project\n"
          ]
        }
      ]
    },
    {
      "cell_type": "code",
      "execution_count": 3,
      "metadata": {
        "id": "uwN5rnv2bNxP"
      },
      "outputs": [],
      "source": [
        "import numpy as np\n",
        "import pandas as pd\n",
        "import pylab as pl\n",
        "import os\n",
        "from IPython.display import clear_output\n",
        "import time\n",
        "\n",
        "\n",
        "from sklearn.preprocessing import LabelEncoder\n",
        "\n",
        "import torch\n",
        "from torch import nn\n",
        "from torch.nn import functional as F\n",
        "\n",
        "from CNN import *\n",
        "from LSTM import *\n",
        "from tokenizer import *\n",
        "from document_cleaner import *\n",
        "from utils import *"
      ]
    },
    {
      "cell_type": "markdown",
      "metadata": {
        "id": "JR-H5kj5bNxg"
      },
      "source": [
        "# CNN / LSTM"
      ]
    },
    {
      "cell_type": "code",
      "source": [
        "train_data = pd.read_csv(\"data/train_data.csv\")\n",
        "test_data = pd.read_csv(\"data/test_data.csv\")"
      ],
      "metadata": {
        "id": "JjDm3Hf-JeWt"
      },
      "execution_count": 4,
      "outputs": []
    },
    {
      "cell_type": "code",
      "source": [
        "X_train = train_data[\"full_text_cleaned\"]\n",
        "y_train = train_data[\"category\"]\n",
        "X_test = test_data[\"full_text_cleaned\"]\n",
        "y_test = test_data[\"category\"]"
      ],
      "metadata": {
        "id": "VsJTUeMxI9Vk"
      },
      "execution_count": 5,
      "outputs": []
    },
    {
      "cell_type": "code",
      "execution_count": 6,
      "metadata": {
        "id": "Hh6e9qJcbNxh"
      },
      "outputs": [],
      "source": [
        "# Encode y labels\n",
        "le = LabelEncoder().fit(y_train)\n",
        "y_train = le.transform(y_train)\n",
        "y_test = le.transform(y_test)\n",
        "\n",
        "y_train = torch.tensor(y_train).long()\n",
        "y_test = torch.tensor(y_test).long()"
      ]
    },
    {
      "cell_type": "code",
      "execution_count": 7,
      "metadata": {
        "id": "UUOd2F4mbNxh"
      },
      "outputs": [],
      "source": [
        "# Fit the tokenizer\n",
        "tokenizer = MyTokenizer(min_df=0.00001, max_df=1.)\n",
        "tokenizer.fit(X_train)\n",
        "\n",
        "# Tokenize the sequences\n",
        "X_train = tokenizer.transform(X_train)\n",
        "X_test = tokenizer.transform(X_test)"
      ]
    },
    {
      "cell_type": "code",
      "source": [
        "from torch.utils.data import Dataset, DataLoader\n",
        "class MatrixLoader(Dataset):\n",
        "    \"\"\"Simple dataloader given the data matrix X and response y\n",
        "    batch is assumed to be the first dimension\"\"\"\n",
        "    def __init__(self, X, y, classification=True):\n",
        "        self.X = X\n",
        "        self.y = y\n",
        "\n",
        "        if classification:\n",
        "            self.y = self.y.to(int)\n",
        "\n",
        "    def __len__(self):\n",
        "        return len(self.X)\n",
        "\n",
        "    def __getitem__(self, index):\n",
        "        return self.X[index], self.y[index]\n",
        "\n",
        "\n",
        "# Custom data collation function to perform dynamic padding\n",
        "def my_collate(batch):\n",
        "    data = [item[0] for item in batch]\n",
        "    data = torch.tensor(pad_to_max_length(data, 0), dtype=torch.long)\n",
        "    target = [item[1] for item in batch]\n",
        "    target = torch.LongTensor(target)\n",
        "    return [data, target]"
      ],
      "metadata": {
        "id": "GfUbc-QAl5T1"
      },
      "execution_count": 8,
      "outputs": []
    },
    {
      "cell_type": "code",
      "execution_count": 15,
      "metadata": {
        "id": "j3UlivDUbNxi"
      },
      "outputs": [],
      "source": [
        "# Create datasets\n",
        "train_set= MatrixLoader(X_train, y_train)\n",
        "test_set = MatrixLoader(X_test, y_test)\n",
        "\n",
        "# Create dataloaders\n",
        "train_loader = DataLoader(train_set, batch_size=256, shuffle=True, collate_fn=my_collate)\n",
        "test_loader = DataLoader(test_set, batch_size=256, shuffle=True, collate_fn=my_collate)"
      ]
    },
    {
      "cell_type": "code",
      "source": [
        "embedding_dim = 256 #@param {type:\"integer\"}"
      ],
      "metadata": {
        "id": "GEA3-87SofE8"
      },
      "execution_count": 10,
      "outputs": []
    },
    {
      "cell_type": "code",
      "execution_count": 13,
      "metadata": {
        "id": "hXbo83pWbNxi"
      },
      "outputs": [],
      "source": [
        "# Define CNN model\n",
        "net = CNN(embedding_dim=embedding_dim, n_resnets=10, blocks_per_resnet=1, kernel_size=3)\n",
        "\n",
        "model = TextClassifier(tokenizer.get_vocab_size(), embedding_dim=embedding_dim, out_dim=y_train.max()+1, net=net)"
      ]
    },
    {
      "cell_type": "code",
      "source": [
        "# Define LSTM model\n",
        "net = LSTM(embedding_dim=embedding_dim, n_lstms=5, bidirectional=True)\n",
        "\n",
        "model = TextClassifier(tokenizer.get_vocab_size(), embedding_dim=embedding_dim, out_dim=y_train.max()+1, net=net)\n",
        "model.classifier = nn.Linear(embedding_dim*2, y_train.max()+1)"
      ],
      "metadata": {
        "id": "RvPDOWD6ktuM"
      },
      "execution_count": 16,
      "outputs": []
    },
    {
      "cell_type": "code",
      "execution_count": 17,
      "metadata": {
        "id": "06VIHq0PbNxi",
        "colab": {
          "base_uri": "https://localhost:8080/",
          "height": 303
        },
        "outputId": "c6a64655-e7c6-4192-9669-222e8a54b148"
      },
      "outputs": [
        {
          "output_type": "display_data",
          "data": {
            "text/plain": [
              "<Figure size 432x288 with 1 Axes>"
            ],
            "image/png": "[encoded data removed]"
          },
          "metadata": {
            "needs_background": "light"
          }
        },
        {
          "output_type": "stream",
          "name": "stdout",
          "text": [
            "F1 macro: 0.37\n",
            "F1 weighted: 0.57\n"
          ]
        }
      ],
      "source": [
        "#@title Train CNN or LSTM {vertical-output: true}\n",
        "device = torch.device(\"cuda\" if torch.cuda.is_available() else \"cpu\")\n",
        "model.to(device)\n",
        "optimizer = torch.optim.Adam(model.parameters(), 1e-3)\n",
        "criterion = nn.CrossEntropyLoss()\n",
        "\n",
        "losses = []\n",
        "eval_loss = []\n",
        "for epoch in range(5):\n",
        "    model.train()\n",
        "    for batch_idx, (data, target) in enumerate(train_loader):\n",
        "        data, target = data.to(device), target.to(device)\n",
        "        optimizer.zero_grad()\n",
        "        output = model(data)\n",
        "        loss = criterion(output, target)\n",
        "        loss.backward()\n",
        "        optimizer.step()\n",
        "        losses.append(loss.cpu().item())\n",
        "\n",
        "    # Print eval loss\n",
        "    clear_output(True)\n",
        "    pl.plot(losses, '.', alpha=0.3)\n",
        "    pl.show()\n",
        "    y_pred = []\n",
        "    y_true = []\n",
        "    model.eval()\n",
        "    with torch.no_grad():\n",
        "        for batch_idx, (data, target) in enumerate(test_loader):\n",
        "            data, target = data.to(device), target.to(device)\n",
        "            output = model(data)\n",
        "            y_pred.extend([max.cpu().item() for max in torch.argmax(output, dim=1)])\n",
        "            y_true.extend([y.cpu().item() for y in target])\n",
        "\n",
        "    get_f1_scores(y_pred, y_true)"
      ]
    },
    {
      "cell_type": "code",
      "source": [
        "# Test the model\n",
        "y_pred = []\n",
        "y_true = []\n",
        "start = time.time()\n",
        "model.eval()\n",
        "with torch.no_grad():\n",
        "    for batch_idx, (data, target) in enumerate(test_loader):\n",
        "        data, target = data.to(device), target.to(device)\n",
        "        output = model(data)\n",
        "        y_pred.extend([max.cpu().item() for max in torch.argmax(output, dim=1)])\n",
        "        y_true.extend([y.cpu().item() for y in target])\n",
        "\n",
        "print(\"time per document: \", (time.time() - start) / len(test_set))\n",
        "get_f1_scores(y_pred, y_true)"
      ],
      "metadata": {
        "colab": {
          "base_uri": "https://localhost:8080/"
        },
        "id": "LXAdBGm3sMdM",
        "outputId": "e5e316c0-e69b-444e-cbaa-6e45b7776b0d"
      },
      "execution_count": 18,
      "outputs": [
        {
          "output_type": "stream",
          "name": "stdout",
          "text": [
            "time per document:  0.0001618237164739909\n",
            "F1 macro: 0.37\n",
            "F1 weighted: 0.57\n"
          ]
        }
      ]
    },
    {
      "cell_type": "markdown",
      "source": [
        "# Transformer"
      ],
      "metadata": {
        "id": "-5gaQhMKDlMf"
      }
    },
    {
      "cell_type": "code",
      "source": [
        "!pip install transformers\n",
        "!pip install datasets\n",
        "clear_output()"
      ],
      "metadata": {
        "id": "QDP_REsV3h2i"
      },
      "execution_count": 19,
      "outputs": []
    },
    {
      "cell_type": "code",
      "source": [
        "# Prepare data for HuggingFace transformers\n",
        "train_data = pd.read_csv(\"data/train_data.csv\")\n",
        "test_data = pd.read_csv(\"data/test_data.csv\")\n",
        "\n",
        "train_data = train_data.loc[:, [\"full_text\", \"category\"]]\n",
        "test_data = test_data.loc[:, [\"full_text\", \"category\"]]\n",
        "\n",
        "train_data.rename(columns={\"full_text\": \"text\", \"category\": \"label\"}, inplace=True)\n",
        "test_data.rename(columns={\"full_text\": \"text\", \"category\": \"label\"}, inplace=True)"
      ],
      "metadata": {
        "id": "3ppvKOQR5rmi"
      },
      "execution_count": 20,
      "outputs": []
    },
    {
      "cell_type": "code",
      "source": [
        "# Encode y labels\n",
        "le = LabelEncoder().fit(train_data[\"label\"])\n",
        "train_data[\"label\"] = le.transform(train_data[\"label\"])\n",
        "test_data[\"label\"] = le.transform(test_data[\"label\"])"
      ],
      "metadata": {
        "id": "3PBWKW5WWClO"
      },
      "execution_count": 21,
      "outputs": []
    },
    {
      "cell_type": "code",
      "source": [
        "from datasets import Dataset\n",
        "train_set = Dataset.from_pandas(train_data)\n",
        "test_set = Dataset.from_pandas(test_data)"
      ],
      "metadata": {
        "id": "npVoWlq_Y7gh"
      },
      "execution_count": 22,
      "outputs": []
    },
    {
      "cell_type": "code",
      "source": [
        "# Tokenize Sequences\n",
        "from transformers import AutoTokenizer\n",
        "tokenizer = AutoTokenizer.from_pretrained(\"distilbert-base-uncased\")\n",
        "\n",
        "def tokenize_function(examples):\n",
        "    return tokenizer(examples[\"text\"], truncation=True)\n",
        "\n",
        "tokenized_train_dataset = train_set.map(tokenize_function, batched=True)\n",
        "tokenized_test_dataset = test_set.map(tokenize_function, batched=True)"
      ],
      "metadata": {
        "id": "GOC_Yo5z3o5g"
      },
      "execution_count": null,
      "outputs": []
    },
    {
      "cell_type": "code",
      "source": [
        "from transformers import DataCollatorWithPadding\n",
        "\n",
        "data_collator = DataCollatorWithPadding(tokenizer=tokenizer)"
      ],
      "metadata": {
        "id": "m1-UneLs0rp9"
      },
      "execution_count": 24,
      "outputs": []
    },
    {
      "cell_type": "code",
      "source": [
        "from datasets import load_metric\n",
        "\n",
        "metric = load_metric(\"accuracy\") # Use accuracy since F1 doesn't work"
      ],
      "metadata": {
        "id": "ntoPrhVg68qM"
      },
      "execution_count": null,
      "outputs": []
    },
    {
      "cell_type": "code",
      "source": [
        "def compute_metrics(eval_pred):\n",
        "    logits, labels = eval_pred\n",
        "    predictions = np.argmax(logits, axis=-1)\n",
        "    return metric.compute(predictions=predictions, references=labels)"
      ],
      "metadata": {
        "id": "-aDYGqQQ6_Dj"
      },
      "execution_count": 26,
      "outputs": []
    },
    {
      "cell_type": "code",
      "source": [
        "# Shuffle train/eval set\n",
        "train_dataset = tokenized_train_dataset.shuffle(seed=42)\n",
        "eval_dataset = tokenized_test_dataset.shuffle(seed=42)"
      ],
      "metadata": {
        "id": "uF4TIDUb2d3k"
      },
      "execution_count": 27,
      "outputs": []
    },
    {
      "cell_type": "code",
      "source": [
        "# Import distilbert-base-uncased model\n",
        "from transformers import AutoModelForSequenceClassification\n",
        "\n",
        "model = AutoModelForSequenceClassification.from_pretrained(\"distilbert-base-uncased\", num_labels=train_data[\"label\"].max() + 1)"
      ],
      "metadata": {
        "id": "hgDwddcD7422"
      },
      "execution_count": null,
      "outputs": []
    },
    {
      "cell_type": "code",
      "source": [
        "# Set train args\n",
        "from transformers import TrainingArguments, Trainer\n",
        "\n",
        "training_args = TrainingArguments(\n",
        "    output_dir=\"./results\",\n",
        "    learning_rate=2e-5,\n",
        "    per_device_train_batch_size=16,\n",
        "    per_device_eval_batch_size=16,\n",
        "    num_train_epochs=1,\n",
        "    evaluation_strategy=\"epoch\",\n",
        "    save_steps=2000,\n",
        ")"
      ],
      "metadata": {
        "id": "Od13bnFh7A7x"
      },
      "execution_count": 30,
      "outputs": []
    },
    {
      "cell_type": "code",
      "source": [
        "# Train for 1 epoch\n",
        "trainer = Trainer(\n",
        "    model=model,\n",
        "    args=training_args,\n",
        "    train_dataset=train_dataset,\n",
        "    eval_dataset=eval_dataset,\n",
        "    compute_metrics=compute_metrics,\n",
        "    tokenizer=tokenizer,\n",
        "    data_collator=data_collator\n",
        ")\n",
        "\n",
        "trainer.train()"
      ],
      "metadata": {
        "id": "7iINgDPz7FCU",
        "colab": {
          "base_uri": "https://localhost:8080/",
          "height": 908
        },
        "outputId": "f6b4d62a-6f84-42dd-986e-7867edbbdcda"
      },
      "execution_count": 31,
      "outputs": [
        {
          "output_type": "stream",
          "name": "stderr",
          "text": [
            "The following columns in the training set don't have a corresponding argument in `DistilBertForSequenceClassification.forward` and have been ignored: text. If text are not expected by `DistilBertForSequenceClassification.forward`,  you can safely ignore this message.\n",
            "/usr/local/lib/python3.7/dist-packages/transformers/optimization.py:309: FutureWarning: This implementation of AdamW is deprecated and will be removed in a future version. Use the PyTorch implementation torch.optim.AdamW instead, or set `no_deprecation_warning=True` to disable this warning\n",
            "  FutureWarning,\n",
            "***** Running training *****\n",
            "  Num examples = 162378\n",
            "  Num Epochs = 1\n",
            "  Instantaneous batch size per device = 16\n",
            "  Total train batch size (w. parallel, distributed & accumulation) = 16\n",
            "  Gradient Accumulation steps = 1\n",
            "  Total optimization steps = 10149\n"
          ]
        },
        {
          "output_type": "display_data",
          "data": {
            "text/plain": [
              "<IPython.core.display.HTML object>"
            ],
            "text/html": [
              "\n",
              "    <div>\n",
              "      \n",
              "      <progress value='10149' max='10149' style='width:300px; height:20px; vertical-align: middle;'></progress>\n",
              "      [10149/10149 21:56, Epoch 1/1]\n",
              "    </div>\n",
              "    <table border=\"1\" class=\"dataframe\">\n",
              "  <thead>\n",
              " <tr style=\"text-align: left;\">\n",
              "      <th>Epoch</th>\n",
              "      <th>Training Loss</th>\n",
              "      <th>Validation Loss</th>\n",
              "      <th>Accuracy</th>\n",
              "    </tr>\n",
              "  </thead>\n",
              "  <tbody>\n",
              "    <tr>\n",
              "      <td>1</td>\n",
              "      <td>0.874200</td>\n",
              "      <td>1.050088</td>\n",
              "      <td>0.688189</td>\n",
              "    </tr>\n",
              "  </tbody>\n",
              "</table><p>"
            ]
          },
          "metadata": {}
        },
        {
          "output_type": "stream",
          "name": "stderr",
          "text": [
            "Saving model checkpoint to ./results/checkpoint-2000\n",
            "Configuration saved in ./results/checkpoint-2000/config.json\n",
            "Model weights saved in ./results/checkpoint-2000/pytorch_model.bin\n",
            "tokenizer config file saved in ./results/checkpoint-2000/tokenizer_config.json\n",
            "Special tokens file saved in ./results/checkpoint-2000/special_tokens_map.json\n",
            "Saving model checkpoint to ./results/checkpoint-4000\n",
            "Configuration saved in ./results/checkpoint-4000/config.json\n",
            "Model weights saved in ./results/checkpoint-4000/pytorch_model.bin\n",
            "tokenizer config file saved in ./results/checkpoint-4000/tokenizer_config.json\n",
            "Special tokens file saved in ./results/checkpoint-4000/special_tokens_map.json\n",
            "Saving model checkpoint to ./results/checkpoint-6000\n",
            "Configuration saved in ./results/checkpoint-6000/config.json\n",
            "Model weights saved in ./results/checkpoint-6000/pytorch_model.bin\n",
            "tokenizer config file saved in ./results/checkpoint-6000/tokenizer_config.json\n",
            "Special tokens file saved in ./results/checkpoint-6000/special_tokens_map.json\n",
            "Saving model checkpoint to ./results/checkpoint-8000\n",
            "Configuration saved in ./results/checkpoint-8000/config.json\n",
            "Model weights saved in ./results/checkpoint-8000/pytorch_model.bin\n",
            "tokenizer config file saved in ./results/checkpoint-8000/tokenizer_config.json\n",
            "Special tokens file saved in ./results/checkpoint-8000/special_tokens_map.json\n",
            "Saving model checkpoint to ./results/checkpoint-10000\n",
            "Configuration saved in ./results/checkpoint-10000/config.json\n",
            "Model weights saved in ./results/checkpoint-10000/pytorch_model.bin\n",
            "tokenizer config file saved in ./results/checkpoint-10000/tokenizer_config.json\n",
            "Special tokens file saved in ./results/checkpoint-10000/special_tokens_map.json\n",
            "The following columns in the evaluation set don't have a corresponding argument in `DistilBertForSequenceClassification.forward` and have been ignored: text. If text are not expected by `DistilBertForSequenceClassification.forward`,  you can safely ignore this message.\n",
            "***** Running Evaluation *****\n",
            "  Num examples = 38472\n",
            "  Batch size = 16\n",
            "\n",
            "\n",
            "Training completed. Do not forget to share your model on huggingface.co/models =)\n",
            "\n",
            "\n"
          ]
        },
        {
          "output_type": "execute_result",
          "data": {
            "text/plain": [
              "TrainOutput(global_step=10149, training_loss=1.0722137550401363, metrics={'train_runtime': 1317.183, 'train_samples_per_second': 123.277, 'train_steps_per_second': 7.705, 'total_flos': 3327730640701848.0, 'train_loss': 1.0722137550401363, 'epoch': 1.0})"
            ]
          },
          "metadata": {},
          "execution_count": 31
        }
      ]
    },
    {
      "cell_type": "code",
      "source": [
        "# Compute f1 scores and prediction time\n",
        "\n",
        "y_true = []\n",
        "y_pred = []\n",
        "batch_size = 64\n",
        "model.eval()\n",
        "start = time.time()\n",
        "for i in range(0, len(eval_dataset), batch_size):\n",
        "    batch = eval_dataset[i:i+batch_size]\n",
        "    input = tokenizer(batch[\"text\"], truncation=True)\n",
        "    y_true.extend(batch[\"label\"])\n",
        "    input = data_collator(input)\n",
        "    input = torch.LongTensor(input[\"input_ids\"]).cuda()\n",
        "    with torch.no_grad():\n",
        "        outputs = model(input)\n",
        "\n",
        "    logits = outputs.logits\n",
        "    predictions = torch.argmax(logits, dim=-1)\n",
        "    y_pred.extend([prediction.item() for prediction in predictions.cpu()])\n",
        "\n",
        "print(\"time per document: \", (time.time() - start) / len(eval_dataset))\n",
        "get_f1_scores(y_true, y_pred)"
      ],
      "metadata": {
        "id": "7j-h7j6CKzi0",
        "colab": {
          "base_uri": "https://localhost:8080/"
        },
        "outputId": "21749edd-a133-4175-b977-ba33491d16db"
      },
      "execution_count": 32,
      "outputs": [
        {
          "output_type": "stream",
          "name": "stdout",
          "text": [
            "time per document:  0.0016265599327043774\n",
            "F1 macro: 0.45\n",
            "F1 weighted: 0.68\n"
          ]
        }
      ]
    }
  ],
  "metadata": {
    "interpreter": {
      "hash": "f38bca3c9600444284abf86780be38c386e032d708dbe2e8970d98e9b2d0aa36"
    },
    "kernelspec": {
      "display_name": "Python 3.9.7 ('base')",
      "language": "python",
      "name": "python3"
    },
    "language_info": {
      "codemirror_mode": {
        "name": "ipython",
        "version": 3
      },
      "file_extension": ".py",
      "mimetype": "text/x-python",
      "name": "python",
      "nbconvert_exporter": "python",
      "pygments_lexer": "ipython3",
      "version": "3.9.7"
    },
    "orig_nbformat": 4,
    "colab": {
      "name": "news_analysis.ipynb",
      "provenance": [],
      "collapsed_sections": []
    },
    "accelerator": "GPU"
  },
  "nbformat": 4,
  "nbformat_minor": 0
}